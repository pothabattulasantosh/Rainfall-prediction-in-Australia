{
 "cells": [
  {
   "cell_type": "markdown",
   "metadata": {},
   "source": [
    "<h1>Rain in Australia</h1>\n",
    "    \n",
    "<h2>Description</h2>\n",
    "\n",
    "\n",
    "This dataset contains daily weather observations from numerous Australian weather stations.    \n",
    "\n",
    "\n",
    "\n",
    "\n",
    "<h2>Features description</h2>\n",
    "\n",
    "    Date---The date of observation\n",
    "    \n",
    "    Location---The common name of the location of the weather station\n",
    "    \n",
    "    MinTemp---The minimum temperature in degrees celsius\n",
    "    \n",
    "    MaxTemp---The maximum temperature in degrees celsius\n",
    "    \n",
    "    Rainfall---The amount of rainfall recorded for the day in mm\n",
    "    \n",
    "    Evaporation---The so-called Class A pan evaporation (mm) in the 24 hours to 9am\n",
    "    \n",
    "    Sunshine---The number of hours of bright sunshine in the day.\n",
    "    \n",
    "    WindGustDir---The direction of the strongest wind gust in the 24 hours to midnight\n",
    "    \n",
    "    WindGustSpeed---The speed (km/h) of the strongest wind gust in the 24 hours to midnight\n",
    "    \n",
    "    WindDir9am---Direction of the wind at 9am\n",
    "    \n",
    "    WindDir3pm---Direction of the wind at 3pm\n",
    "    \n",
    "    WindSpeed9am---Wind speed (km/hr) averaged over 10 minutes prior to 9am\n",
    "    \n",
    "    WindSpeed3pm---Wind speed (km/hr) averaged over 10 minutes prior to 3pm\n",
    "    \n",
    "    Humidity9am---Humidity (percent) at 9am\n",
    "    \n",
    "    Humidity3pm---Humidity (percent) at 3pm\n",
    "    \n",
    "    Pressure9am---Atmospheric pressure (hpa) reduced to mean sea level at 9am\n",
    "    \n",
    "    Pressure3pm---Atmospheric pressure (hpa) reduced to mean sea level at 3pm\n",
    "    \n",
    "    Cloud9am---Fraction of sky obscured by cloud at 9am. This is measured in \"oktas\", which are a unit of                    eigths. It records how many eigths of the sky are obscured by cloud. A 0 measure indicates                    completely clear sky whilst an 8 indicates that it is completely overcast.\n",
    "    \n",
    "    Cloud3pm---Fraction of sky obscured by cloud (in \"oktas\": eighths) at 3pm. See Cload9am for a description                of the values\n",
    "    \n",
    "    Temp9am---Temperature (degrees C) at 9am\n",
    "    \n",
    "    \n",
    "    Temp3pm---Temperature (degrees C) at 3pm\n",
    "\n",
    "    RainToday---Boolean: 1 if precipitation (mm) in the 24 hours to 9am exceeds 1mm, otherwise 0\n",
    "\n",
    "    RISK_MM---The amount of next day rain in mm. Used to create response variable RainTomorrow. A kind of  measure of the \"risk\".\n",
    "    \n",
    "    \n",
    "    RainTomorrow---The target variable. Did it rain tomorrow?\n"
   ]
  },
  {
   "cell_type": "markdown",
   "metadata": {},
   "source": [
    "<h2>References</h2>\n",
    "This total dataset is taken from following reference. \n",
    "\n",
    "https://www.kaggle.com/jsphyg/weather-dataset-rattle-package\n",
    "\n",
    "<h2>Source & Acknowledgements</h2>\n",
    "\n",
    "Observations were drawn from numerous weather stations. The daily observations are available from http://www.bom.gov.au/climate/data. Copyright Commonwealth of Australia 2010, Bureau of Meteorology.\n",
    "\n",
    "Definitions adapted from http://www.bom.gov.au/climate/dwo/IDCJDW0000.shtml\n",
    "\n",
    "This dataset is also available via the R package rattle.data and at https://rattle.togaware.com/weatherAUS.csv. Package home page: http://rattle.togaware.com. Data source: http://www.bom.gov.au/climate/dwo/ and http://www.bom.gov.au/climate/data.\n",
    "\n",
    "And to see some great examples of how to use this data: https://togaware.com/onepager/"
   ]
  },
  {
   "cell_type": "markdown",
   "metadata": {},
   "source": [
    "<h2>Objective</h2>\n",
    "\n",
    "Predict whether or not it will rain tomorrow by training a binary classification model on target RainTomorrow.\n",
    "\n",
    "The target variable RainTomorrow means: Did it rain the next day? Yes or No."
   ]
  },
  {
   "cell_type": "code",
   "execution_count": 1,
   "metadata": {},
   "outputs": [],
   "source": [
    "#For Data loading and preprocessing\n",
    "import pandas as pd\n",
    "\n",
    "#For matrix operations\n",
    "import numpy as np\n",
    "\n",
    "#For plotting\n",
    "import matplotlib.pyplot as plt\n",
    "%matplotlib inline\n",
    "import seaborn as sns\n",
    "\n",
    "#For splitting the data\n",
    "from sklearn.model_selection import train_test_split\n",
    "\n",
    "#For data preprocessing\n",
    "from sklearn.preprocessing import StandardScaler\n",
    "\n",
    "#For hyperparameter tuning\n",
    "from sklearn.model_selection import RandomizedSearchCV,GridSearchCV\n",
    "#For appling LogisticRegression\n",
    "from sklearn.linear_model import LogisticRegression\n",
    "\n",
    "#For model/vatiable persistence \n",
    "from sklearn.externals import joblib\n",
    "\n",
    "#For math operations\n",
    "import math \n",
    "\n",
    "#To see the progress of the iterations\n",
    "#from tqdm import tqdm\n",
    "\n",
    "#Performance metrices\n",
    "from sklearn.metrics import roc_auc_score,roc_curve,auc,log_loss,confusion_matrix\n",
    "\n",
    "#For encoding the features\n",
    "from sklearn.preprocessing import LabelEncoder,LabelBinarizer\n",
    "\n",
    "#For ignoring warnings\n",
    "import warnings\n",
    "warnings.filterwarnings(\"ignore\")"
   ]
  },
  {
   "cell_type": "code",
   "execution_count": 2,
   "metadata": {},
   "outputs": [
    {
     "name": "stdout",
     "output_type": "stream",
     "text": [
      "Total no.of points = 142193\n"
     ]
    },
    {
     "data": {
      "text/html": [
       "<div>\n",
       "<style scoped>\n",
       "    .dataframe tbody tr th:only-of-type {\n",
       "        vertical-align: middle;\n",
       "    }\n",
       "\n",
       "    .dataframe tbody tr th {\n",
       "        vertical-align: top;\n",
       "    }\n",
       "\n",
       "    .dataframe thead th {\n",
       "        text-align: right;\n",
       "    }\n",
       "</style>\n",
       "<table border=\"1\" class=\"dataframe\">\n",
       "  <thead>\n",
       "    <tr style=\"text-align: right;\">\n",
       "      <th></th>\n",
       "      <th>Date</th>\n",
       "      <th>Location</th>\n",
       "      <th>MinTemp</th>\n",
       "      <th>MaxTemp</th>\n",
       "      <th>Rainfall</th>\n",
       "      <th>Evaporation</th>\n",
       "      <th>Sunshine</th>\n",
       "      <th>WindGustDir</th>\n",
       "      <th>WindGustSpeed</th>\n",
       "      <th>WindDir9am</th>\n",
       "      <th>...</th>\n",
       "      <th>Humidity3pm</th>\n",
       "      <th>Pressure9am</th>\n",
       "      <th>Pressure3pm</th>\n",
       "      <th>Cloud9am</th>\n",
       "      <th>Cloud3pm</th>\n",
       "      <th>Temp9am</th>\n",
       "      <th>Temp3pm</th>\n",
       "      <th>RainToday</th>\n",
       "      <th>RISK_MM</th>\n",
       "      <th>RainTomorrow</th>\n",
       "    </tr>\n",
       "  </thead>\n",
       "  <tbody>\n",
       "    <tr>\n",
       "      <th>0</th>\n",
       "      <td>2008-12-01</td>\n",
       "      <td>Albury</td>\n",
       "      <td>13.4</td>\n",
       "      <td>22.9</td>\n",
       "      <td>0.6</td>\n",
       "      <td>NaN</td>\n",
       "      <td>NaN</td>\n",
       "      <td>W</td>\n",
       "      <td>44.0</td>\n",
       "      <td>W</td>\n",
       "      <td>...</td>\n",
       "      <td>22.0</td>\n",
       "      <td>1007.7</td>\n",
       "      <td>1007.1</td>\n",
       "      <td>8.0</td>\n",
       "      <td>NaN</td>\n",
       "      <td>16.9</td>\n",
       "      <td>21.8</td>\n",
       "      <td>No</td>\n",
       "      <td>0.0</td>\n",
       "      <td>No</td>\n",
       "    </tr>\n",
       "    <tr>\n",
       "      <th>1</th>\n",
       "      <td>2008-12-02</td>\n",
       "      <td>Albury</td>\n",
       "      <td>7.4</td>\n",
       "      <td>25.1</td>\n",
       "      <td>0.0</td>\n",
       "      <td>NaN</td>\n",
       "      <td>NaN</td>\n",
       "      <td>WNW</td>\n",
       "      <td>44.0</td>\n",
       "      <td>NNW</td>\n",
       "      <td>...</td>\n",
       "      <td>25.0</td>\n",
       "      <td>1010.6</td>\n",
       "      <td>1007.8</td>\n",
       "      <td>NaN</td>\n",
       "      <td>NaN</td>\n",
       "      <td>17.2</td>\n",
       "      <td>24.3</td>\n",
       "      <td>No</td>\n",
       "      <td>0.0</td>\n",
       "      <td>No</td>\n",
       "    </tr>\n",
       "    <tr>\n",
       "      <th>2</th>\n",
       "      <td>2008-12-03</td>\n",
       "      <td>Albury</td>\n",
       "      <td>12.9</td>\n",
       "      <td>25.7</td>\n",
       "      <td>0.0</td>\n",
       "      <td>NaN</td>\n",
       "      <td>NaN</td>\n",
       "      <td>WSW</td>\n",
       "      <td>46.0</td>\n",
       "      <td>W</td>\n",
       "      <td>...</td>\n",
       "      <td>30.0</td>\n",
       "      <td>1007.6</td>\n",
       "      <td>1008.7</td>\n",
       "      <td>NaN</td>\n",
       "      <td>2.0</td>\n",
       "      <td>21.0</td>\n",
       "      <td>23.2</td>\n",
       "      <td>No</td>\n",
       "      <td>0.0</td>\n",
       "      <td>No</td>\n",
       "    </tr>\n",
       "    <tr>\n",
       "      <th>3</th>\n",
       "      <td>2008-12-04</td>\n",
       "      <td>Albury</td>\n",
       "      <td>9.2</td>\n",
       "      <td>28.0</td>\n",
       "      <td>0.0</td>\n",
       "      <td>NaN</td>\n",
       "      <td>NaN</td>\n",
       "      <td>NE</td>\n",
       "      <td>24.0</td>\n",
       "      <td>SE</td>\n",
       "      <td>...</td>\n",
       "      <td>16.0</td>\n",
       "      <td>1017.6</td>\n",
       "      <td>1012.8</td>\n",
       "      <td>NaN</td>\n",
       "      <td>NaN</td>\n",
       "      <td>18.1</td>\n",
       "      <td>26.5</td>\n",
       "      <td>No</td>\n",
       "      <td>1.0</td>\n",
       "      <td>No</td>\n",
       "    </tr>\n",
       "    <tr>\n",
       "      <th>4</th>\n",
       "      <td>2008-12-05</td>\n",
       "      <td>Albury</td>\n",
       "      <td>17.5</td>\n",
       "      <td>32.3</td>\n",
       "      <td>1.0</td>\n",
       "      <td>NaN</td>\n",
       "      <td>NaN</td>\n",
       "      <td>W</td>\n",
       "      <td>41.0</td>\n",
       "      <td>ENE</td>\n",
       "      <td>...</td>\n",
       "      <td>33.0</td>\n",
       "      <td>1010.8</td>\n",
       "      <td>1006.0</td>\n",
       "      <td>7.0</td>\n",
       "      <td>8.0</td>\n",
       "      <td>17.8</td>\n",
       "      <td>29.7</td>\n",
       "      <td>No</td>\n",
       "      <td>0.2</td>\n",
       "      <td>No</td>\n",
       "    </tr>\n",
       "  </tbody>\n",
       "</table>\n",
       "<p>5 rows × 24 columns</p>\n",
       "</div>"
      ],
      "text/plain": [
       "         Date Location  MinTemp  MaxTemp  Rainfall  Evaporation  Sunshine  \\\n",
       "0  2008-12-01   Albury     13.4     22.9       0.6          NaN       NaN   \n",
       "1  2008-12-02   Albury      7.4     25.1       0.0          NaN       NaN   \n",
       "2  2008-12-03   Albury     12.9     25.7       0.0          NaN       NaN   \n",
       "3  2008-12-04   Albury      9.2     28.0       0.0          NaN       NaN   \n",
       "4  2008-12-05   Albury     17.5     32.3       1.0          NaN       NaN   \n",
       "\n",
       "  WindGustDir  WindGustSpeed WindDir9am  ... Humidity3pm  Pressure9am  \\\n",
       "0           W           44.0          W  ...        22.0       1007.7   \n",
       "1         WNW           44.0        NNW  ...        25.0       1010.6   \n",
       "2         WSW           46.0          W  ...        30.0       1007.6   \n",
       "3          NE           24.0         SE  ...        16.0       1017.6   \n",
       "4           W           41.0        ENE  ...        33.0       1010.8   \n",
       "\n",
       "   Pressure3pm  Cloud9am  Cloud3pm  Temp9am  Temp3pm  RainToday  RISK_MM  \\\n",
       "0       1007.1       8.0       NaN     16.9     21.8         No      0.0   \n",
       "1       1007.8       NaN       NaN     17.2     24.3         No      0.0   \n",
       "2       1008.7       NaN       2.0     21.0     23.2         No      0.0   \n",
       "3       1012.8       NaN       NaN     18.1     26.5         No      1.0   \n",
       "4       1006.0       7.0       8.0     17.8     29.7         No      0.2   \n",
       "\n",
       "   RainTomorrow  \n",
       "0            No  \n",
       "1            No  \n",
       "2            No  \n",
       "3            No  \n",
       "4            No  \n",
       "\n",
       "[5 rows x 24 columns]"
      ]
     },
     "execution_count": 2,
     "metadata": {},
     "output_type": "execute_result"
    }
   ],
   "source": [
    "data = pd.read_csv('weatherAUS.csv')\n",
    "\n",
    "print(\"Total no.of points = {}\".format(data.shape[0]))\n",
    "data.head(5)"
   ]
  },
  {
   "cell_type": "markdown",
   "metadata": {},
   "source": [
    "<h2>1. Exploratory Data Analysis</h2> "
   ]
  },
  {
   "cell_type": "code",
   "execution_count": 3,
   "metadata": {},
   "outputs": [],
   "source": [
    "data.drop_duplicates(inplace=True)"
   ]
  },
  {
   "cell_type": "code",
   "execution_count": 4,
   "metadata": {
    "scrolled": false
   },
   "outputs": [
    {
     "data": {
      "text/plain": [
       "Date             False\n",
       "Location         False\n",
       "MinTemp           True\n",
       "MaxTemp           True\n",
       "Rainfall          True\n",
       "Evaporation       True\n",
       "Sunshine          True\n",
       "WindGustDir       True\n",
       "WindGustSpeed     True\n",
       "WindDir9am        True\n",
       "WindDir3pm        True\n",
       "WindSpeed9am      True\n",
       "WindSpeed3pm      True\n",
       "Humidity9am       True\n",
       "Humidity3pm       True\n",
       "Pressure9am       True\n",
       "Pressure3pm       True\n",
       "Cloud9am          True\n",
       "Cloud3pm          True\n",
       "Temp9am           True\n",
       "Temp3pm           True\n",
       "RainToday         True\n",
       "RISK_MM          False\n",
       "RainTomorrow     False\n",
       "dtype: bool"
      ]
     },
     "execution_count": 4,
     "metadata": {},
     "output_type": "execute_result"
    }
   ],
   "source": [
    "data.isnull().any()"
   ]
  },
  {
   "cell_type": "markdown",
   "metadata": {},
   "source": [
    "##### We can see there are many Null values in the data , lets try to fill  with proper values"
   ]
  },
  {
   "cell_type": "code",
   "execution_count": 5,
   "metadata": {},
   "outputs": [
    {
     "data": {
      "image/png": "[encoded data removed]",
      "text/plain": [
       "<Figure size 432x288 with 1 Axes>"
      ]
     },
     "metadata": {},
     "output_type": "display_data"
    }
   ],
   "source": [
    "sns.set(style=\"whitegrid\")\n",
    "sns.countplot(data.RainTomorrow)\n",
    "plt.title(\"Target labels\")\n",
    "plt.show()\n"
   ]
  },
  {
   "cell_type": "markdown",
   "metadata": {},
   "source": [
    "##### From above plot it is clear that data set is imbalanced "
   ]
  },
  {
   "cell_type": "code",
   "execution_count": 6,
   "metadata": {},
   "outputs": [],
   "source": [
    "#Separating the data based on its class label.\n",
    "data_yes = data[data['RainTomorrow']=='Yes']\n",
    "data_no = data[data['RainTomorrow']=='No']"
   ]
  },
  {
   "cell_type": "markdown",
   "metadata": {},
   "source": [
    "##### Now lets observe the most occuring values in every  column for both the cases "
   ]
  },
  {
   "cell_type": "code",
   "execution_count": 7,
   "metadata": {},
   "outputs": [
    {
     "data": {
      "text/html": [
       "<div>\n",
       "<style scoped>\n",
       "    .dataframe tbody tr th:only-of-type {\n",
       "        vertical-align: middle;\n",
       "    }\n",
       "\n",
       "    .dataframe tbody tr th {\n",
       "        vertical-align: top;\n",
       "    }\n",
       "\n",
       "    .dataframe thead th {\n",
       "        text-align: right;\n",
       "    }\n",
       "</style>\n",
       "<table border=\"1\" class=\"dataframe\">\n",
       "  <thead>\n",
       "    <tr style=\"text-align: right;\">\n",
       "      <th></th>\n",
       "      <th>Date</th>\n",
       "      <th>Location</th>\n",
       "      <th>MinTemp</th>\n",
       "      <th>MaxTemp</th>\n",
       "      <th>Rainfall</th>\n",
       "      <th>Evaporation</th>\n",
       "      <th>Sunshine</th>\n",
       "      <th>WindGustDir</th>\n",
       "      <th>WindGustSpeed</th>\n",
       "      <th>WindDir9am</th>\n",
       "      <th>...</th>\n",
       "      <th>Humidity3pm</th>\n",
       "      <th>Pressure9am</th>\n",
       "      <th>Pressure3pm</th>\n",
       "      <th>Cloud9am</th>\n",
       "      <th>Cloud3pm</th>\n",
       "      <th>Temp9am</th>\n",
       "      <th>Temp3pm</th>\n",
       "      <th>RainToday</th>\n",
       "      <th>RISK_MM</th>\n",
       "      <th>RainTomorrow</th>\n",
       "    </tr>\n",
       "  </thead>\n",
       "  <tbody>\n",
       "    <tr>\n",
       "      <th>0</th>\n",
       "      <td>2010-09-03</td>\n",
       "      <td>Portland</td>\n",
       "      <td>9.6</td>\n",
       "      <td>17.2</td>\n",
       "      <td>0.0</td>\n",
       "      <td>4.0</td>\n",
       "      <td>0.0</td>\n",
       "      <td>W</td>\n",
       "      <td>39.0</td>\n",
       "      <td>N</td>\n",
       "      <td>...</td>\n",
       "      <td>69.0</td>\n",
       "      <td>1014.0</td>\n",
       "      <td>1010.4</td>\n",
       "      <td>8.0</td>\n",
       "      <td>8.0</td>\n",
       "      <td>13.8</td>\n",
       "      <td>16.0</td>\n",
       "      <td>No</td>\n",
       "      <td>1.2</td>\n",
       "      <td>Yes</td>\n",
       "    </tr>\n",
       "  </tbody>\n",
       "</table>\n",
       "<p>1 rows × 24 columns</p>\n",
       "</div>"
      ],
      "text/plain": [
       "         Date  Location  MinTemp  MaxTemp  Rainfall  Evaporation  Sunshine  \\\n",
       "0  2010-09-03  Portland      9.6     17.2       0.0          4.0       0.0   \n",
       "\n",
       "  WindGustDir  WindGustSpeed WindDir9am  ... Humidity3pm  Pressure9am  \\\n",
       "0           W           39.0          N  ...        69.0       1014.0   \n",
       "\n",
       "   Pressure3pm  Cloud9am  Cloud3pm  Temp9am  Temp3pm  RainToday  RISK_MM  \\\n",
       "0       1010.4       8.0       8.0     13.8     16.0         No      1.2   \n",
       "\n",
       "   RainTomorrow  \n",
       "0           Yes  \n",
       "\n",
       "[1 rows x 24 columns]"
      ]
     },
     "execution_count": 7,
     "metadata": {},
     "output_type": "execute_result"
    }
   ],
   "source": [
    "#Observing the mode for all columns when RainTomorrow = Yes  \n",
    "mode_values_for_yes = data_yes.mode()\n",
    "mode_values_for_yes"
   ]
  },
  {
   "cell_type": "code",
   "execution_count": 8,
   "metadata": {},
   "outputs": [
    {
     "data": {
      "text/html": [
       "<div>\n",
       "<style scoped>\n",
       "    .dataframe tbody tr th:only-of-type {\n",
       "        vertical-align: middle;\n",
       "    }\n",
       "\n",
       "    .dataframe tbody tr th {\n",
       "        vertical-align: top;\n",
       "    }\n",
       "\n",
       "    .dataframe thead th {\n",
       "        text-align: right;\n",
       "    }\n",
       "</style>\n",
       "<table border=\"1\" class=\"dataframe\">\n",
       "  <thead>\n",
       "    <tr style=\"text-align: right;\">\n",
       "      <th></th>\n",
       "      <th>Date</th>\n",
       "      <th>Location</th>\n",
       "      <th>MinTemp</th>\n",
       "      <th>MaxTemp</th>\n",
       "      <th>Rainfall</th>\n",
       "      <th>Evaporation</th>\n",
       "      <th>Sunshine</th>\n",
       "      <th>WindGustDir</th>\n",
       "      <th>WindGustSpeed</th>\n",
       "      <th>WindDir9am</th>\n",
       "      <th>...</th>\n",
       "      <th>Humidity3pm</th>\n",
       "      <th>Pressure9am</th>\n",
       "      <th>Pressure3pm</th>\n",
       "      <th>Cloud9am</th>\n",
       "      <th>Cloud3pm</th>\n",
       "      <th>Temp9am</th>\n",
       "      <th>Temp3pm</th>\n",
       "      <th>RainToday</th>\n",
       "      <th>RISK_MM</th>\n",
       "      <th>RainTomorrow</th>\n",
       "    </tr>\n",
       "  </thead>\n",
       "  <tbody>\n",
       "    <tr>\n",
       "      <th>0</th>\n",
       "      <td>2014-03-18</td>\n",
       "      <td>Canberra</td>\n",
       "      <td>11.0</td>\n",
       "      <td>20.0</td>\n",
       "      <td>0.0</td>\n",
       "      <td>4.0</td>\n",
       "      <td>11.0</td>\n",
       "      <td>E</td>\n",
       "      <td>35.0</td>\n",
       "      <td>N</td>\n",
       "      <td>...</td>\n",
       "      <td>52.0</td>\n",
       "      <td>1017.9</td>\n",
       "      <td>1015.5</td>\n",
       "      <td>1.0</td>\n",
       "      <td>1.0</td>\n",
       "      <td>16.0</td>\n",
       "      <td>20.0</td>\n",
       "      <td>No</td>\n",
       "      <td>0.0</td>\n",
       "      <td>No</td>\n",
       "    </tr>\n",
       "  </tbody>\n",
       "</table>\n",
       "<p>1 rows × 24 columns</p>\n",
       "</div>"
      ],
      "text/plain": [
       "         Date  Location  MinTemp  MaxTemp  Rainfall  Evaporation  Sunshine  \\\n",
       "0  2014-03-18  Canberra     11.0     20.0       0.0          4.0      11.0   \n",
       "\n",
       "  WindGustDir  WindGustSpeed WindDir9am  ... Humidity3pm  Pressure9am  \\\n",
       "0           E           35.0          N  ...        52.0       1017.9   \n",
       "\n",
       "   Pressure3pm  Cloud9am  Cloud3pm  Temp9am  Temp3pm  RainToday  RISK_MM  \\\n",
       "0       1015.5       1.0       1.0     16.0     20.0         No      0.0   \n",
       "\n",
       "   RainTomorrow  \n",
       "0            No  \n",
       "\n",
       "[1 rows x 24 columns]"
      ]
     },
     "execution_count": 8,
     "metadata": {},
     "output_type": "execute_result"
    }
   ],
   "source": [
    "#Observing the mode for all columns when RainTomorrow = No  \n",
    "mode_values_for_no = data_no.mode()\n",
    "mode_values_for_no"
   ]
  },
  {
   "cell_type": "code",
   "execution_count": 9,
   "metadata": {},
   "outputs": [
    {
     "data": {
      "text/plain": [
       "23.3"
      ]
     },
     "execution_count": 9,
     "metadata": {},
     "output_type": "execute_result"
    }
   ],
   "source": [
    "data_no['MaxTemp'].median()"
   ]
  },
  {
   "cell_type": "code",
   "execution_count": 10,
   "metadata": {
    "scrolled": false
   },
   "outputs": [],
   "source": [
    "#For Temparatures we cannot replace NaN values with 0, hence replacing NaN with its respective mode value\n",
    "data_yes['MinTemp'].fillna(value=data_yes['MinTemp'].mode()[0],inplace=True )\n",
    "data_no['MinTemp'].fillna(value=data_no['MinTemp'].mode()[0],inplace=True )\n",
    "\n",
    "data_yes['MaxTemp'].fillna(value=data_yes['MaxTemp'].mode()[0],inplace=True )\n",
    "data_no['MaxTemp'].fillna(value=data_no['MaxTemp'].mode()[0],inplace=True )\n",
    "\n",
    "\n",
    "data_yes['Temp9am'].fillna(value=data_yes['Temp9am'].mode()[0],inplace=True )\n",
    "data_no['Temp9am'].fillna(value=data_no['Temp9am'].mode()[0],inplace=True )\n",
    "\n",
    "data_yes['Temp3pm'].fillna(value=data_yes['Temp3pm'].mode()[0],inplace=True )\n",
    "data_no['Temp3pm'].fillna(value=data_no['Temp3pm'].mode()[0],inplace=True )\n",
    "\n",
    "\n",
    "# For humidity also \n",
    "data_yes['Humidity9am'].fillna(value=data_yes['Humidity9am'].mode()[0],inplace=True )\n",
    "data_no['Humidity9am'].fillna(value=data_no['Humidity9am'].mode()[0],inplace=True )\n",
    "\n",
    "\n",
    "\n",
    "data_yes['Humidity3pm'].fillna(value=data_yes['Humidity3pm'].mode()[0],inplace=True )\n",
    "data_no['Humidity3pm'].fillna(value=data_no['Humidity3pm'].mode()[0],inplace=True )\n",
    "\n",
    "# For the rain fall feature we can replace NaN with 0.0 which says there is no rain fall\n",
    "data_yes['Rainfall'].fillna(value=0.0,inplace=True)\n",
    "data_no['Rainfall'].fillna(value=0.0,inplace=True)\n",
    "\n",
    "\n",
    "data_yes['Pressure9am'].fillna(value=data_yes['Pressure9am'].median(),inplace=True )\n",
    "data_no['Pressure9am'].fillna(value=data_no['Pressure9am'].median(),inplace=True )\n",
    "\n",
    "data_yes['Pressure3pm'].fillna(value=data_yes['Pressure3pm'].median(),inplace=True )\n",
    "data_no['Pressure3pm'].fillna(value=data_no['Pressure3pm'].median(),inplace=True )\n",
    "\n",
    "\n",
    "data_yes['WindSpeed9am'].fillna(value=data_yes['WindSpeed9am'].median(),inplace=True )\n",
    "data_no['WindSpeed9am'].fillna(value=data_no['WindSpeed9am'].median(),inplace=True )\n",
    "\n",
    "data_yes['WindSpeed3pm'].fillna(value=data_yes['WindSpeed3pm'].median(),inplace=True )\n",
    "data_no['WindSpeed3pm'].fillna(value=data_no['WindSpeed3pm'].median(),inplace=True )\n",
    "\n",
    "#WindGustSpeed -- replacing with median\n",
    "data_yes['WindGustSpeed'].fillna(value=data_yes['WindGustSpeed'].median(),inplace=True)\n",
    "data_no['WindGustSpeed'].fillna(value=data_no['WindGustSpeed'].median(),inplace=True)\n",
    "\n",
    "\n",
    "\n",
    "\n",
    "\n"
   ]
  },
  {
   "cell_type": "code",
   "execution_count": 11,
   "metadata": {},
   "outputs": [],
   "source": [
    "# For RainToday feature we cannot fill any value, so better to remove the NaN values \n",
    "data_yes.dropna(inplace=True)\n",
    "data_no.dropna(inplace=True)"
   ]
  },
  {
   "cell_type": "code",
   "execution_count": 12,
   "metadata": {},
   "outputs": [],
   "source": [
    "data_filled= data_yes.append(data_no, ignore_index=True)"
   ]
  },
  {
   "cell_type": "code",
   "execution_count": 13,
   "metadata": {},
   "outputs": [
    {
     "data": {
      "text/plain": [
       "Date             False\n",
       "Location         False\n",
       "MinTemp          False\n",
       "MaxTemp          False\n",
       "Rainfall         False\n",
       "Evaporation      False\n",
       "Sunshine         False\n",
       "WindGustDir      False\n",
       "WindGustSpeed    False\n",
       "WindDir9am       False\n",
       "WindDir3pm       False\n",
       "WindSpeed9am     False\n",
       "WindSpeed3pm     False\n",
       "Humidity9am      False\n",
       "Humidity3pm      False\n",
       "Pressure9am      False\n",
       "Pressure3pm      False\n",
       "Cloud9am         False\n",
       "Cloud3pm         False\n",
       "Temp9am          False\n",
       "Temp3pm          False\n",
       "RainToday        False\n",
       "RISK_MM          False\n",
       "RainTomorrow     False\n",
       "dtype: bool"
      ]
     },
     "execution_count": 13,
     "metadata": {},
     "output_type": "execute_result"
    }
   ],
   "source": [
    "data_filled.isnull().any()"
   ]
  },
  {
   "cell_type": "code",
   "execution_count": 14,
   "metadata": {},
   "outputs": [
    {
     "name": "stdout",
     "output_type": "stream",
     "text": [
      "Percentage of removed points= 60.14642070988023%\n"
     ]
    }
   ],
   "source": [
    "print(\"Percentage of removed points= {}%\".format(100.00-(len(data_filled)*100/len(data))))"
   ]
  },
  {
   "cell_type": "code",
   "execution_count": 15,
   "metadata": {},
   "outputs": [],
   "source": [
    "# sorting the data based on data (Time based splitting)\n",
    "data_filled=data_filled.sort_values(by='Date')"
   ]
  },
  {
   "cell_type": "code",
   "execution_count": 16,
   "metadata": {},
   "outputs": [],
   "source": [
    "#Removing unwanted features, RISK_MM is same as target label hence removing with data and loaction  \n",
    "data_final = data_filled.drop(['Date', 'Location','RISK_MM'], axis=1)"
   ]
  },
  {
   "cell_type": "code",
   "execution_count": 17,
   "metadata": {},
   "outputs": [
    {
     "data": {
      "text/plain": [
       "(56669, 21)"
      ]
     },
     "execution_count": 17,
     "metadata": {},
     "output_type": "execute_result"
    }
   ],
   "source": [
    "data_final.shape"
   ]
  },
  {
   "cell_type": "markdown",
   "metadata": {},
   "source": [
    "###### Now lets check for any outliers "
   ]
  },
  {
   "cell_type": "code",
   "execution_count": 18,
   "metadata": {},
   "outputs": [
    {
     "data": {
      "text/plain": [
       "<matplotlib.axes._subplots.AxesSubplot at 0x2025bdd64a8>"
      ]
     },
     "execution_count": 18,
     "metadata": {},
     "output_type": "execute_result"
    },
    {
     "data": {
      "image/png": "[encoded data removed]",
      "text/plain": [
       "<Figure size 720x432 with 1 Axes>"
      ]
     },
     "metadata": {},
     "output_type": "display_data"
    }
   ],
   "source": [
    "#Outliers we are checking only for numerical features\n",
    "sns.set(style=\"whitegrid\")\n",
    "plt.figure(figsize=(10, 6))\n",
    "sns.boxplot(data=data_final[['MinTemp','MaxTemp','Temp9am','Temp3pm']])"
   ]
  },
  {
   "cell_type": "markdown",
   "metadata": {},
   "source": [
    "#### From the above box plot we can see that all temparature values are meaning full. no outliers found here"
   ]
  },
  {
   "cell_type": "code",
   "execution_count": 19,
   "metadata": {},
   "outputs": [
    {
     "data": {
      "text/plain": [
       "<matplotlib.axes._subplots.AxesSubplot at 0x2026580f898>"
      ]
     },
     "execution_count": 19,
     "metadata": {},
     "output_type": "execute_result"
    },
    {
     "data": {
      "image/png": "[encoded data removed]",
      "text/plain": [
       "<Figure size 720x432 with 1 Axes>"
      ]
     },
     "metadata": {},
     "output_type": "display_data"
    }
   ],
   "source": [
    "sns.set(style=\"whitegrid\")\n",
    "plt.figure(figsize=(10, 6))\n",
    "sns.boxplot(data=data_final[['WindGustSpeed','WindSpeed9am','WindSpeed3pm']])"
   ]
  },
  {
   "cell_type": "markdown",
   "metadata": {},
   "source": [
    "##### All wind speed values also are in sensible ranges"
   ]
  },
  {
   "cell_type": "code",
   "execution_count": 20,
   "metadata": {
    "scrolled": false
   },
   "outputs": [
    {
     "data": {
      "text/plain": [
       "<matplotlib.axes._subplots.AxesSubplot at 0x2025e88edd8>"
      ]
     },
     "execution_count": 20,
     "metadata": {},
     "output_type": "execute_result"
    },
    {
     "data": {
      "image/png": "[encoded data removed]",
      "text/plain": [
       "<Figure size 720x432 with 1 Axes>"
      ]
     },
     "metadata": {},
     "output_type": "display_data"
    }
   ],
   "source": [
    "sns.set(style=\"whitegrid\")\n",
    "plt.figure(figsize=(10, 6))\n",
    "sns.boxplot(data=data_final[['Humidity9am','Humidity3pm']])"
   ]
  },
  {
   "cell_type": "markdown",
   "metadata": {},
   "source": [
    "##### As we can see that there are some humidity values =0% which is almost never possible, hence removing 0 values "
   ]
  },
  {
   "cell_type": "code",
   "execution_count": 21,
   "metadata": {},
   "outputs": [],
   "source": [
    "data_final= data_final[data_final['Humidity3pm']!=0.0]\n",
    "data_final= data_final[data_final['Humidity9am']!=0.0]"
   ]
  },
  {
   "cell_type": "code",
   "execution_count": 22,
   "metadata": {},
   "outputs": [
    {
     "data": {
      "text/plain": [
       "<matplotlib.axes._subplots.AxesSubplot at 0x2025e8efcc0>"
      ]
     },
     "execution_count": 22,
     "metadata": {},
     "output_type": "execute_result"
    },
    {
     "data": {
      "image/png": "[encoded data removed]",
      "text/plain": [
       "<Figure size 720x432 with 1 Axes>"
      ]
     },
     "metadata": {},
     "output_type": "display_data"
    }
   ],
   "source": [
    "sns.set(style=\"whitegrid\")\n",
    "plt.figure(figsize=(10, 6))\n",
    "sns.boxplot(data=data_final[['Humidity9am','Humidity3pm']])"
   ]
  },
  {
   "cell_type": "code",
   "execution_count": 23,
   "metadata": {},
   "outputs": [
    {
     "data": {
      "text/plain": [
       "<matplotlib.axes._subplots.AxesSubplot at 0x20268fc8400>"
      ]
     },
     "execution_count": 23,
     "metadata": {},
     "output_type": "execute_result"
    },
    {
     "data": {
      "image/png": "[encoded data removed]",
      "text/plain": [
       "<Figure size 720x432 with 1 Axes>"
      ]
     },
     "metadata": {},
     "output_type": "display_data"
    }
   ],
   "source": [
    "sns.set(style=\"whitegrid\")\n",
    "plt.figure(figsize=(10, 6))\n",
    "sns.boxplot(data=data_final[['Pressure9am','Pressure3pm']])"
   ]
  },
  {
   "cell_type": "markdown",
   "metadata": {},
   "source": [
    "##### Here also there are no outliers, all pressure ranges also normally can happen in nature "
   ]
  },
  {
   "cell_type": "code",
   "execution_count": 24,
   "metadata": {},
   "outputs": [
    {
     "data": {
      "text/plain": [
       "<matplotlib.axes._subplots.AxesSubplot at 0x2025edc7fd0>"
      ]
     },
     "execution_count": 24,
     "metadata": {},
     "output_type": "execute_result"
    },
    {
     "data": {
      "image/png": "[encoded data removed]",
      "text/plain": [
       "<Figure size 720x432 with 1 Axes>"
      ]
     },
     "metadata": {},
     "output_type": "display_data"
    }
   ],
   "source": [
    "sns.set(style=\"whitegrid\")\n",
    "plt.figure(figsize=(10, 6))\n",
    "sns.boxplot(data=data_final[['Cloud9am','Cloud3pm']])"
   ]
  },
  {
   "cell_type": "code",
   "execution_count": 25,
   "metadata": {},
   "outputs": [
    {
     "data": {
      "text/plain": [
       "<matplotlib.axes._subplots.AxesSubplot at 0x2025ee2b8d0>"
      ]
     },
     "execution_count": 25,
     "metadata": {},
     "output_type": "execute_result"
    },
    {
     "data": {
      "image/png": "[encoded data removed]",
      "text/plain": [
       "<Figure size 360x432 with 1 Axes>"
      ]
     },
     "metadata": {},
     "output_type": "display_data"
    }
   ],
   "source": [
    "sns.set(style=\"whitegrid\")\n",
    "plt.figure(figsize=(5, 6))\n",
    "sns.boxplot(data=data_final[['Rainfall']])"
   ]
  },
  {
   "cell_type": "code",
   "execution_count": 26,
   "metadata": {},
   "outputs": [
    {
     "data": {
      "text/plain": [
       "<matplotlib.axes._subplots.AxesSubplot at 0x2025eddd390>"
      ]
     },
     "execution_count": 26,
     "metadata": {},
     "output_type": "execute_result"
    },
    {
     "data": {
      "image/png": "[encoded data removed]",
      "text/plain": [
       "<Figure size 360x432 with 1 Axes>"
      ]
     },
     "metadata": {},
     "output_type": "display_data"
    }
   ],
   "source": [
    "sns.set(style=\"whitegrid\")\n",
    "plt.figure(figsize=(5, 6))\n",
    "sns.boxplot(data=data_final[['Evaporation','Sunshine']])"
   ]
  },
  {
   "cell_type": "markdown",
   "metadata": {},
   "source": [
    "##### Hence  the data is not suffering from outliers"
   ]
  },
  {
   "cell_type": "markdown",
   "metadata": {},
   "source": [
    "<h2>2. Data pre-processing and Feature engineering</h2>"
   ]
  },
  {
   "cell_type": "markdown",
   "metadata": {},
   "source": [
    "From the EDA we observed that there are few categorical variables they are :\n",
    "\n",
    "WindGustDir\n",
    "\n",
    "RainToday\n",
    "\n",
    "WindDir9am\n",
    "\n",
    "WindDir3pm\n",
    "\n",
    "and \n",
    "class label = RainTomorrow\n",
    "\n",
    "so encoding all these features into values "
   ]
  },
  {
   "cell_type": "code",
   "execution_count": 27,
   "metadata": {},
   "outputs": [],
   "source": [
    "WindGustDir_encode = LabelEncoder()\n",
    "data_final['WindGustDir']=WindGustDir_encode.fit_transform(data_final['WindGustDir'])\n",
    "\n",
    "WindDir9am_encode = LabelEncoder()\n",
    "data_final['WindDir9am']=WindDir9am_encode.fit_transform(data_final['WindDir9am'])\n",
    "\n",
    "WindDir3pm_encode = LabelEncoder()\n",
    "data_final['WindDir3pm']=WindDir3pm_encode.fit_transform(data_final['WindDir3pm'])\n",
    "\n",
    "RainToday_encode = LabelEncoder()\n",
    "data_final['RainToday']=RainToday_encode.fit_transform(data_final['RainToday'])\n",
    "\n",
    "RainTomorrow_encode = LabelEncoder()\n",
    "data_final['RainTomorrow']=RainTomorrow_encode.fit_transform(data_final[\"RainTomorrow\"])"
   ]
  },
  {
   "cell_type": "code",
   "execution_count": 28,
   "metadata": {},
   "outputs": [],
   "source": [
    "Y= data_final['RainTomorrow']\n",
    "X = data_final.drop(['RainTomorrow'],axis=1)"
   ]
  },
  {
   "cell_type": "code",
   "execution_count": 29,
   "metadata": {},
   "outputs": [],
   "source": [
    "column_names=X.columns.tolist()"
   ]
  },
  {
   "cell_type": "code",
   "execution_count": 30,
   "metadata": {},
   "outputs": [],
   "source": [
    "X_train, X_test, y_train, y_test = train_test_split(X, Y, train_size=0.80,shuffle=False)"
   ]
  },
  {
   "cell_type": "markdown",
   "metadata": {},
   "source": [
    "##### Since the features are measured from different scales, appling featruring scaling  "
   ]
  },
  {
   "cell_type": "code",
   "execution_count": 31,
   "metadata": {},
   "outputs": [],
   "source": [
    "scaler= StandardScaler()\n",
    "X_train = scaler.fit_transform(X_train)\n",
    "X_test = scaler.transform(X_test)"
   ]
  },
  {
   "cell_type": "code",
   "execution_count": 32,
   "metadata": {},
   "outputs": [],
   "source": [
    "def plotErrors(k,train,cv):\n",
    "       \n",
    "    plt.plot(k, train, label='Train logloss')\n",
    "    plt.plot(k, cv, label='CV logloss')\n",
    "    plt.legend()\n",
    "    plt.xlabel(\"log(C)= -log(λ)\")\n",
    "    plt.ylabel(\"Neg_Log Loss\")\n",
    "    plt.title(\"Error Plot for Train and Validation data\")\n",
    "    plt.grid()\n",
    "    plt.show()"
   ]
  },
  {
   "cell_type": "markdown",
   "metadata": {},
   "source": [
    "<h2> 3. Modeling the data using Logisitic Regression</h2>"
   ]
  },
  {
   "cell_type": "markdown",
   "metadata": {},
   "source": [
    "<h3> Hyper-parameter tuning</h3>"
   ]
  },
  {
   "cell_type": "code",
   "execution_count": 35,
   "metadata": {
    "scrolled": true
   },
   "outputs": [
    {
     "data": {
      "image/png": "[encoded data removed]",
      "text/plain": [
       "<Figure size 432x288 with 1 Axes>"
      ]
     },
     "metadata": {},
     "output_type": "display_data"
    }
   ],
   "source": [
    "parameters={'C':[10**-6,10**-5,10**-4, 10**-2, 10**0, 10**2, 10**3] }\n",
    "log_c = list(map(lambda x : float(math.log(x)),parameters['C']))\n",
    "\n",
    "clf_log = LogisticRegression(penalty='l2',class_weight='balanced')\n",
    "\n",
    "clf = GridSearchCV(clf_log, parameters, cv=5, scoring='neg_log_loss',return_train_score =True)\n",
    "clf.fit(X_train, y_train)\n",
    "\n",
    "train_loss= clf.cv_results_['mean_train_score']\n",
    "cv_loss = clf.cv_results_['mean_test_score'] \n",
    "\n",
    "plotErrors(k=log_c,train=train_loss,cv=cv_loss)"
   ]
  },
  {
   "cell_type": "code",
   "execution_count": 36,
   "metadata": {},
   "outputs": [
    {
     "data": {
      "text/plain": [
       "LogisticRegression(C=1000, class_weight='balanced', dual=False,\n",
       "          fit_intercept=True, intercept_scaling=1, max_iter=100,\n",
       "          multi_class='ovr', n_jobs=1, penalty='l2', random_state=None,\n",
       "          solver='liblinear', tol=0.0001, verbose=0, warm_start=False)"
      ]
     },
     "execution_count": 36,
     "metadata": {},
     "output_type": "execute_result"
    }
   ],
   "source": [
    "clf = clf.best_estimator_\n",
    "clf"
   ]
  },
  {
   "cell_type": "code",
   "execution_count": 37,
   "metadata": {},
   "outputs": [
    {
     "data": {
      "text/plain": [
       "LogisticRegression(C=1000, class_weight='balanced', dual=False,\n",
       "          fit_intercept=True, intercept_scaling=1, max_iter=100,\n",
       "          multi_class='ovr', n_jobs=1, penalty='l2', random_state=None,\n",
       "          solver='liblinear', tol=0.0001, verbose=0, warm_start=False)"
      ]
     },
     "execution_count": 37,
     "metadata": {},
     "output_type": "execute_result"
    }
   ],
   "source": [
    "#Trainig with the best value of C\n",
    "clf.fit(X_train, y_train)"
   ]
  },
  {
   "cell_type": "markdown",
   "metadata": {},
   "source": [
    "<h3>Model Evaluating</h3>"
   ]
  },
  {
   "cell_type": "code",
   "execution_count": 38,
   "metadata": {},
   "outputs": [
    {
     "name": "stdout",
     "output_type": "stream",
     "text": [
      "Log_loss on train data is :0.4213743265965361\n",
      "Log_loss on test data is :0.42842652530959185\n"
     ]
    }
   ],
   "source": [
    "#Printing the log-loss for both trian and test data\n",
    "train_loss = log_loss(y_train, clf.predict_proba(X_train)[:,1])\n",
    "test_loss  =log_loss(y_test, clf.predict_proba(X_test)[:,1])\n",
    "\n",
    "\n",
    "print(\"Log_loss on train data is :{}\".format(train_loss))\n",
    "print(\"Log_loss on test data is :{}\".format(test_loss))"
   ]
  },
  {
   "cell_type": "markdown",
   "metadata": {},
   "source": [
    "##### Since log-loss can have any value between [0, ∞] so we can only interpret the model prefectly fitted or not but   we cannot tell how best the model is, hence checking with AUC metric "
   ]
  },
  {
   "cell_type": "code",
   "execution_count": 39,
   "metadata": {
    "scrolled": false
   },
   "outputs": [
    {
     "data": {
      "image/png": "[encoded data removed]",
      "text/plain": [
       "<Figure size 432x288 with 1 Axes>"
      ]
     },
     "metadata": {},
     "output_type": "display_data"
    }
   ],
   "source": [
    "#Plotting AUC \n",
    "train_fpr, train_tpr, thresholds = roc_curve(y_train, clf.predict_proba(X_train)[:,1])\n",
    "test_fpr, test_tpr, thresholds = roc_curve(y_test, clf.predict_proba(X_test)[:,1])\n",
    "plt.plot(train_fpr, train_tpr, label=\"train AUC =\"+str(auc(train_fpr, train_tpr)))\n",
    "plt.plot(test_fpr, test_tpr, label=\"test AUC =\"+str(auc(test_fpr, test_tpr)))\n",
    "plt.legend()\n",
    "plt.xlabel(\"FPR\")\n",
    "plt.ylabel(\"TPR\")\n",
    "plt.title(\"ROC for Train and Test data with best_fit\")\n",
    "plt.grid()\n",
    "plt.show()"
   ]
  },
  {
   "cell_type": "code",
   "execution_count": 40,
   "metadata": {},
   "outputs": [
    {
     "data": {
      "image/png": "[encoded data removed]",
      "text/plain": [
       "<Figure size 720x288 with 4 Axes>"
      ]
     },
     "metadata": {},
     "output_type": "display_data"
    }
   ],
   "source": [
    "#ploting Confusion matrix\n",
    "#Ref:https://stackoverflow.com/questions/19233771/sklearn-plot-confusion-matrix-with-labels/48018785\n",
    "def plotcm (cm,ax,title):\n",
    "    sns.heatmap(cm, ax=ax,annot=True,fmt='d',annot_kws={'size':20},yticklabels=3);\n",
    "    ax.set_xlabel('Predicted');\n",
    "    ax.set_ylabel('Actual'); \n",
    "    ax.set_title('Confusion Matrix for {} '.format(title)); \n",
    "    ax.xaxis.set_ticklabels(['NO', 'YES']); \n",
    "    ax.yaxis.set_ticklabels(['NO', 'YES']);\n",
    "\n",
    "\n",
    "fig, subplt = plt.subplots(1, 2,figsize=(10, 4)) \n",
    "cm=confusion_matrix(y_train, clf.predict(X_train))\n",
    "ax= subplt[0]\n",
    "plotcm(cm,ax,'Train data')\n",
    "\n",
    "cm=confusion_matrix(y_test, clf.predict(X_test))\n",
    "ax= subplt[1]\n",
    "plotcm(cm,ax,'Test data')"
   ]
  },
  {
   "cell_type": "markdown",
   "metadata": {},
   "source": [
    "<h3> Feature interpretation</h3>"
   ]
  },
  {
   "cell_type": "code",
   "execution_count": 41,
   "metadata": {},
   "outputs": [
    {
     "data": {
      "text/plain": [
       "array([-0.27323143, -0.02141824,  0.10994747, -0.06853409, -0.62721434,\n",
       "        0.12271816,  0.85054113, -0.0318672 , -0.03485931, -0.09530709,\n",
       "       -0.24165585,  0.06371587,  1.13844823,  1.00665528, -1.42428327,\n",
       "       -0.09042131,  0.30186218,  0.2647275 ,  0.13053517,  0.17729874])"
      ]
     },
     "execution_count": 41,
     "metadata": {},
     "output_type": "execute_result"
    }
   ],
   "source": [
    "clf.coef_[0]"
   ]
  },
  {
   "cell_type": "code",
   "execution_count": 42,
   "metadata": {},
   "outputs": [],
   "source": [
    "feature_weights=sorted(zip(clf.coef_[0],column_names),reverse = True)"
   ]
  },
  {
   "cell_type": "code",
   "execution_count": 43,
   "metadata": {
    "scrolled": true
   },
   "outputs": [
    {
     "data": {
      "text/plain": [
       "[(1.1384482301413, 'Humidity3pm'),\n",
       " (1.0066552763622452, 'Pressure9am'),\n",
       " (0.8505411317523849, 'WindGustSpeed'),\n",
       " (0.30186217790397973, 'Cloud3pm'),\n",
       " (0.26472749783217453, 'Temp9am'),\n",
       " (0.17729874034043772, 'RainToday'),\n",
       " (0.130535165126773, 'Temp3pm'),\n",
       " (0.12271816167719675, 'WindGustDir'),\n",
       " (0.10994746540819095, 'Rainfall'),\n",
       " (0.06371587289699299, 'Humidity9am'),\n",
       " (-0.021418239382843207, 'MaxTemp'),\n",
       " (-0.0318671999898255, 'WindDir9am'),\n",
       " (-0.034859307001313636, 'WindDir3pm'),\n",
       " (-0.06853408644974304, 'Evaporation'),\n",
       " (-0.09042130532728501, 'Cloud9am'),\n",
       " (-0.0953070902750138, 'WindSpeed9am'),\n",
       " (-0.24165584539227303, 'WindSpeed3pm'),\n",
       " (-0.27323142640391773, 'MinTemp'),\n",
       " (-0.6272143358588156, 'Sunshine'),\n",
       " (-1.4242832719023153, 'Pressure3pm')]"
      ]
     },
     "execution_count": 43,
     "metadata": {},
     "output_type": "execute_result"
    }
   ],
   "source": [
    "feature_weights"
   ]
  },
  {
   "cell_type": "markdown",
   "metadata": {},
   "source": [
    "This is our weight vector, each weight corresponds to each feature, above are the sorted features based on its weight value.\n",
    "Higher weight value means higher important feature it is.  "
   ]
  },
  {
   "cell_type": "code",
   "execution_count": 44,
   "metadata": {},
   "outputs": [],
   "source": [
    "def will_rain_fall_for_this_conditions(xq):\n",
    "    \n",
    "    xq[\"WindGustDir\"]=WindGustDir_encode.transform([xq[\"WindGustDir\"]])\n",
    "    xq[\"WindDir9am\"]=WindDir9am_encode.transform([xq[\"WindDir9am\"]])\n",
    "    xq[\"WindDir3pm\"]=WindDir3pm_encode.transform([xq[\"WindDir3pm\"]])\n",
    "    xq[\"RainToday\"]=RainToday_encode.transform([xq[\"RainToday\"]])\n",
    "    xq=np.array(list((xq.values())))\n",
    "    final_xq = scaler.transform(xq.reshape(1, -1))\n",
    "    chance=clf.predict_proba(final_xq)[:,1]\n",
    "    if chance>=0.5:\n",
    "        print(\"Yes, there is a {} % chance of rain can fall on tommorow \".format(chance*100))\n",
    "    else:\n",
    "        print(\"No, there is only {}% chance of rainfall hence we cannot expect rain on tommorow \".format(chance*100))\n",
    "    print(\"Because today's Humidity at 3pm ={}%,Atmosphereic Pressure at 9am={}millibars,and Wind Gust Speed ={}km/hr, which are very good sign for rainfall\"\n",
    "          .format(Humidity3pm,Pressure9am,WindGustSpeed)) "
   ]
  },
  {
   "cell_type": "code",
   "execution_count": 45,
   "metadata": {},
   "outputs": [],
   "source": [
    "#Giving one query point here\n",
    "\n",
    "MinTemp   = 26.2\n",
    "MaxTemp   = 31.7\n",
    "Rainfall   = 2.8\n",
    "Evaporation   = 5.4\n",
    "Sunshine   = 3.5\n",
    "WindGustDir   = \"NNW\"\n",
    "WindGustSpeed   = 57\n",
    "WindDir9am   = \"NNW\"\n",
    "WindDir3pm   = \"NNW\"\n",
    "WindSpeed9am   = 20\n",
    "WindSpeed3pm   = 13\n",
    "Humidity9am   = 81\n",
    "Humidity3pm   = 95\n",
    "Pressure9am   = 1007.2\n",
    "Pressure3pm   = 1006.1\n",
    "Cloud9am   = 7\n",
    "Cloud3pm   = 8\n",
    "Temp9am   = 28.8\n",
    "Temp3pm   = 25.4\n",
    "RainToday   =\"Yes\""
   ]
  },
  {
   "cell_type": "code",
   "execution_count": 46,
   "metadata": {},
   "outputs": [],
   "source": [
    "point = [MinTemp,MaxTemp,Rainfall,\n",
    "         Evaporation,Sunshine,WindGustDir,\n",
    "         WindGustSpeed,WindDir9am,WindDir3pm,\n",
    "         WindSpeed9am,WindSpeed3pm,Humidity9am,\n",
    "         Humidity3pm,Pressure9am,Pressure3pm,\n",
    "         Cloud9am,Cloud3pm,Temp9am,Temp3pm,RainToday]\n",
    "\n",
    "xq=dict()\n",
    "for i,name in enumerate(column_names):\n",
    "    xq[name]=point[i]"
   ]
  },
  {
   "cell_type": "markdown",
   "metadata": {},
   "source": [
    "<h3>Interpretting the Classifer result</h3>"
   ]
  },
  {
   "cell_type": "code",
   "execution_count": 47,
   "metadata": {},
   "outputs": [
    {
     "name": "stdout",
     "output_type": "stream",
     "text": [
      "Yes, there is a [99.04229122] % chance of rain can fall on tommorow \n",
      "Because today's Humidity at 3pm =95%,Atmosphereic Pressure at 9am=1007.2millibars,and Wind Gust Speed =57km/hr, which are very good sign for rainfall\n"
     ]
    }
   ],
   "source": [
    "will_rain_fall_for_this_conditions(xq)"
   ]
  }
 ],
 "metadata": {
  "kernelspec": {
   "display_name": "Python 3",
   "language": "python",
   "name": "python3"
  },
  "language_info": {
   "codemirror_mode": {
    "name": "ipython",
    "version": 3
   },
   "file_extension": ".py",
   "mimetype": "text/x-python",
   "name": "python",
   "nbconvert_exporter": "python",
   "pygments_lexer": "ipython3",
   "version": "3.6.5"
  }
 },
 "nbformat": 4,
 "nbformat_minor": 2
}
